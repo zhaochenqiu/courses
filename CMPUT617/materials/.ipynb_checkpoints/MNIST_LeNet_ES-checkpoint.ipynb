{
 "cells": [
  {
   "cell_type": "code",
   "execution_count": 1,
   "metadata": {
    "colab": {
     "base_uri": "https://localhost:8080/",
     "height": 34
    },
    "colab_type": "code",
    "executionInfo": {
     "elapsed": 1884,
     "status": "ok",
     "timestamp": 1563408867799,
     "user": {
      "displayName": "Nilanjan Ray",
      "photoUrl": "",
      "userId": "13266317426275772701"
     },
     "user_tz": 360
    },
    "id": "j4BNOnZe46CQ",
    "outputId": "47ad3697-6094-4dd2-8ec7-228f45fbcfdc"
   },
   "outputs": [
    {
     "name": "stdout",
     "output_type": "stream",
     "text": [
      "cuda:0\n"
     ]
    }
   ],
   "source": [
    "import torch\n",
    "import torchvision\n",
    "\n",
    "n_epochs = 20\n",
    "batch_size_train = 200\n",
    "batch_size_test = 1000\n",
    "log_interval = 100\n",
    "\n",
    "random_seed = 1\n",
    "torch.backends.cudnn.enabled = False\n",
    "torch.manual_seed(random_seed)\n",
    "\n",
    "#from google.colab import drive\n",
    "#drive.mount('/content/drive')\n",
    "\n",
    "# Checking GPU availability\n",
    "device = torch.device(\"cuda:0\" if torch.cuda.is_available() else \"cpu\")\n",
    "print(device)\n"
   ]
  },
  {
   "cell_type": "code",
   "execution_count": 2,
   "metadata": {
    "colab": {
     "base_uri": "https://localhost:8080/",
     "height": 255
    },
    "colab_type": "code",
    "executionInfo": {
     "elapsed": 5539,
     "status": "ok",
     "timestamp": 1563408903894,
     "user": {
      "displayName": "Nilanjan Ray",
      "photoUrl": "",
      "userId": "13266317426275772701"
     },
     "user_tz": 360
    },
    "id": "Y2uiYpfC4_aW",
    "outputId": "3ffa75b1-d42c-43be-da24-9750c059b315"
   },
   "outputs": [
    {
     "name": "stderr",
     "output_type": "stream",
     "text": [
      "\r",
      "0it [00:00, ?it/s]"
     ]
    },
    {
     "name": "stdout",
     "output_type": "stream",
     "text": [
      "Downloading http://yann.lecun.com/exdb/mnist/train-images-idx3-ubyte.gz to /MNIST_dataset/MNIST/raw/train-images-idx3-ubyte.gz\n"
     ]
    },
    {
     "name": "stderr",
     "output_type": "stream",
     "text": [
      "9920512it [00:02, 4539768.01it/s]                             \n"
     ]
    },
    {
     "name": "stdout",
     "output_type": "stream",
     "text": [
      "Extracting /MNIST_dataset/MNIST/raw/train-images-idx3-ubyte.gz\n"
     ]
    },
    {
     "name": "stderr",
     "output_type": "stream",
     "text": [
      "\r",
      "0it [00:00, ?it/s]"
     ]
    },
    {
     "name": "stdout",
     "output_type": "stream",
     "text": [
      "Downloading http://yann.lecun.com/exdb/mnist/train-labels-idx1-ubyte.gz to /MNIST_dataset/MNIST/raw/train-labels-idx1-ubyte.gz\n"
     ]
    },
    {
     "name": "stderr",
     "output_type": "stream",
     "text": [
      "32768it [00:00, 68308.57it/s]                            \n",
      "0it [00:00, ?it/s]"
     ]
    },
    {
     "name": "stdout",
     "output_type": "stream",
     "text": [
      "Extracting /MNIST_dataset/MNIST/raw/train-labels-idx1-ubyte.gz\n",
      "Downloading http://yann.lecun.com/exdb/mnist/t10k-images-idx3-ubyte.gz to /MNIST_dataset/MNIST/raw/t10k-images-idx3-ubyte.gz\n"
     ]
    },
    {
     "name": "stderr",
     "output_type": "stream",
     "text": [
      "1654784it [00:01, 1123761.56it/s]                            \n",
      "0it [00:00, ?it/s]"
     ]
    },
    {
     "name": "stdout",
     "output_type": "stream",
     "text": [
      "Extracting /MNIST_dataset/MNIST/raw/t10k-images-idx3-ubyte.gz\n",
      "Downloading http://yann.lecun.com/exdb/mnist/t10k-labels-idx1-ubyte.gz to /MNIST_dataset/MNIST/raw/t10k-labels-idx1-ubyte.gz\n"
     ]
    },
    {
     "name": "stderr",
     "output_type": "stream",
     "text": [
      "8192it [00:00, 24925.36it/s]            "
     ]
    },
    {
     "name": "stdout",
     "output_type": "stream",
     "text": [
      "Extracting /MNIST_dataset/MNIST/raw/t10k-labels-idx1-ubyte.gz\n",
      "Processing...\n",
      "Done!\n"
     ]
    },
    {
     "name": "stderr",
     "output_type": "stream",
     "text": [
      "\n"
     ]
    }
   ],
   "source": [
    "from torch.utils.data import random_split\n",
    "\n",
    "\n",
    "MNIST_training = torchvision.datasets.MNIST('/MNIST_dataset/', train=True, download=True,\n",
    "                             transform=torchvision.transforms.Compose([\n",
    "                               torchvision.transforms.Pad(padding=2),\n",
    "                               torchvision.transforms.ToTensor(),\n",
    "                               torchvision.transforms.Normalize((0.1307,), (0.3081,))]))\n",
    "\n",
    "MNIST_test_set = torchvision.datasets.MNIST('/MNIST_dataset/', train=False, download=True,\n",
    "                             transform=torchvision.transforms.Compose([\n",
    "                               torchvision.transforms.Pad(padding=2),\n",
    "                               torchvision.transforms.ToTensor(),\n",
    "                               torchvision.transforms.Normalize((0.1307,), (0.3081,))]))\n",
    "\n",
    "# create a training and a validation set\n",
    "MNIST_training_set, MNIST_validation_set = random_split(MNIST_training, [55000, 5000])\n",
    "\n",
    "\n",
    "train_loader = torch.utils.data.DataLoader(MNIST_training_set,batch_size=batch_size_train, shuffle=True)\n",
    "\n",
    "validation_loader = torch.utils.data.DataLoader(MNIST_validation_set,batch_size=batch_size_train, shuffle=True)\n",
    "\n",
    "test_loader = torch.utils.data.DataLoader(MNIST_test_set,batch_size=batch_size_test, shuffle=True)"
   ]
  },
  {
   "cell_type": "code",
   "execution_count": 3,
   "metadata": {
    "colab": {
     "base_uri": "https://localhost:8080/",
     "height": 34
    },
    "colab_type": "code",
    "executionInfo": {
     "elapsed": 544,
     "status": "ok",
     "timestamp": 1563408908443,
     "user": {
      "displayName": "Nilanjan Ray",
      "photoUrl": "",
      "userId": "13266317426275772701"
     },
     "user_tz": 360
    },
    "id": "PSq8BOG85GyN",
    "outputId": "4672885f-7422-4e07-806e-d12aa48e9de3"
   },
   "outputs": [
    {
     "data": {
      "text/plain": [
       "torch.Size([1000, 1, 32, 32])"
      ]
     },
     "execution_count": 3,
     "metadata": {
      "tags": []
     },
     "output_type": "execute_result"
    }
   ],
   "source": [
    "examples = enumerate(test_loader)\n",
    "batch_idx, (example_data, example_targets) = next(examples)\n",
    "example_data.shape"
   ]
  },
  {
   "cell_type": "code",
   "execution_count": 4,
   "metadata": {
    "colab": {
     "base_uri": "https://localhost:8080/",
     "height": 551
    },
    "colab_type": "code",
    "executionInfo": {
     "elapsed": 1249,
     "status": "ok",
     "timestamp": 1563408911406,
     "user": {
      "displayName": "Nilanjan Ray",
      "photoUrl": "",
      "userId": "13266317426275772701"
     },
     "user_tz": 360
    },
    "id": "g1hgLmOT5KsW",
    "outputId": "30aa8e78-ea76-43fb-d4d4-b2cb537a34ff"
   },
   "outputs": [
    {
     "data": {
      "image/png": "[encoded data removed]",
      "text/plain": [
       "<Figure size 432x288 with 6 Axes>"
      ]
     },
     "execution_count": 4,
     "metadata": {
      "tags": []
     },
     "output_type": "execute_result"
    },
    {
     "data": {
      "image/png": "[encoded data removed]",
      "text/plain": [
       "<Figure size 432x288 with 6 Axes>"
      ]
     },
     "metadata": {
      "tags": []
     },
     "output_type": "display_data"
    }
   ],
   "source": [
    "import matplotlib.pyplot as plt\n",
    "\n",
    "fig = plt.figure()\n",
    "for i in range(6):\n",
    "  plt.subplot(2,3,i+1)\n",
    "  plt.tight_layout()\n",
    "  plt.imshow(example_data[i][0], cmap='gray', interpolation='none')\n",
    "  plt.title(\"Ground Truth: {}\".format(example_targets[i]))\n",
    "  plt.xticks([])\n",
    "  plt.yticks([])\n",
    "fig"
   ]
  },
  {
   "cell_type": "code",
   "execution_count": 0,
   "metadata": {
    "colab": {},
    "colab_type": "code",
    "id": "aM32G_zp52dY"
   },
   "outputs": [],
   "source": [
    "import torch.nn as nn\n",
    "import torch.nn.functional as F\n",
    "import torch.optim as optim\n"
   ]
  },
  {
   "cell_type": "code",
   "execution_count": 0,
   "metadata": {
    "colab": {},
    "colab_type": "code",
    "id": "cd1MU6Yh56HF"
   },
   "outputs": [],
   "source": [
    "class Net(nn.Module):\n",
    "    def __init__(self):\n",
    "        super(Net, self).__init__()\n",
    "        self.conv1 = nn.Conv2d(1, 6, kernel_size=5)\n",
    "        self.conv2 = nn.Conv2d(6, 16, kernel_size=5)\n",
    "        self.fc1 = nn.Linear(400, 120)\n",
    "        self.fc2 = nn.Linear(120, 84)\n",
    "        self.fc3 = nn.Linear(84, 10)\n",
    "\n",
    "    def forward(self, x):\n",
    "        x = F.relu(self.conv1(x))\n",
    "        x = F.max_pool2d(x, kernel_size=2, stride=2)\n",
    "        x = F.relu(self.conv2(x))\n",
    "        x = F.max_pool2d(x, kernel_size=2, stride=2)\n",
    "        x = x.view(x.size(0), -1)\n",
    "        x = F.relu(self.fc1(x))\n",
    "        x = F.relu(self.fc2(x))\n",
    "        x = self.fc3(x)\n",
    "        return F.softmax(x)            "
   ]
  },
  {
   "cell_type": "code",
   "execution_count": 0,
   "metadata": {
    "colab": {},
    "colab_type": "code",
    "id": "_hjjozQl6ARg"
   },
   "outputs": [],
   "source": [
    "# Estimate gradient of classification accuracy by Evolutionary Strategues (https://arxiv.org/abs/1703.03864)\n",
    "# classification accuracy is not differentiable becuase \"==\" is not differentiable by pytorch\n",
    "\n",
    "# this version uses a for loop\n",
    "def ESgrad_(yp, target, sig):\n",
    "  nSample = 200\n",
    "  grad = torch.zeros(yp.size()).to(device)\n",
    "  for i in range(nSample):\n",
    "    eta = torch.randn(yp.size()).to(device)\n",
    "    # use mirrorred samples, i.e., both eta and -eta\n",
    "    new_yp = yp+sig*eta\n",
    "    pind = new_yp.data.max(1, keepdim=True)[1]\n",
    "    correct = pind.eq(target.data.view_as(pind)).float()\n",
    "    grad += correct * eta\n",
    "    new_yp = yp-sig*eta\n",
    "    pind = new_yp.data.max(1, keepdim=True)[1]\n",
    "    correct = pind.eq(target.data.view_as(pind)).float()\n",
    "    grad += -correct * eta\n",
    "  return -grad/(2*nSample*sig)  # notice the negative sign, becuase accuracy needs to be maximized, not minimized\n",
    "\n",
    "# this version is vectorized, does not use any for loop\n",
    "def ESgrad(yp, target, sig):\n",
    "  nSample = 200\n",
    "  eta = torch.randn((yp.size()[0],yp.size()[1],nSample)).to(device)\n",
    "  eta = torch.cat((eta,-eta),2) # use mirrorred samples, i.e., both eta and -eta\n",
    "  yp_ = yp.unsqueeze(2)\n",
    "  target_ = target.unsqueeze(1).unsqueeze(2)\n",
    "  new_yp = yp_+sig*eta\n",
    "  pind = new_yp.max(1, keepdim=True)[1]\n",
    "  correct = ((pind - target_) == 0).float()\n",
    "  grad = torch.sum(correct * eta, 2)\n",
    "  return -grad/(2*nSample*sig)  # notice the negative sign, becuase accuracy needs to be maximized, not minimized"
   ]
  },
  {
   "cell_type": "code",
   "execution_count": 0,
   "metadata": {
    "colab": {},
    "colab_type": "code",
    "id": "Cy8SKSrG6KxV"
   },
   "outputs": [],
   "source": [
    "import numpy as np\n",
    "from torch.autograd import Variable\n",
    "\n",
    "def train(epoch, sig0):\n",
    "  network.train()\n",
    "  for batch_idx, (data, target) in enumerate(train_loader):\n",
    "    data = data.to(device)\n",
    "    target = target.to(device)\n",
    "    optimizer.zero_grad()\n",
    "    output = network(data)\n",
    "    AccuracyGrad = ESgrad(output,target, sig0*(1.0/(1.+np.log(epoch)))) # approximate gradients by ES\n",
    "    output.backward(AccuracyGrad) # apply ES esitated grdaients in backprop\n",
    "    optimizer.step()\n",
    "    if batch_idx % log_interval == 0:\n",
    "      pind = output.data.max(1, keepdim=True)[1]\n",
    "      accuracy = 100.0*pind.eq(target.data.view_as(pind)).sum().float()/len(data)\n",
    "      print('Train Epoch: {} [{}/{} ({:.0f}%)]\\tAccuracy: {:.2f}'.format(\n",
    "        epoch, batch_idx * len(data), len(train_loader.dataset),\n",
    "        100. * batch_idx / len(train_loader), accuracy))\n",
    "      torch.save(network.state_dict(), 'MNIST_LeNet_ES_model.pth')\n",
    "      torch.save(optimizer.state_dict(), 'MNIST_LeNet_ES_optimizer.pth')"
   ]
  },
  {
   "cell_type": "code",
   "execution_count": 0,
   "metadata": {
    "colab": {},
    "colab_type": "code",
    "id": "Tr4Bd0BI6P7D"
   },
   "outputs": [],
   "source": [
    "def validation():\n",
    "  network.eval()\n",
    "  correct = 0\n",
    "  with torch.no_grad():\n",
    "    for data, target in validation_loader:\n",
    "      data = data.to(device)\n",
    "      target = target.to(device)\n",
    "      output = network(data)\n",
    "      #print(output)\n",
    "      pred = output.data.max(1, keepdim=True)[1]\n",
    "      correct += pred.eq(target.data.view_as(pred)).sum()\n",
    "  print('\\nValidation set accuracy: {}/{} ({:.2f}%)\\n'.format(\n",
    "    correct, len(validation_loader.dataset),\n",
    "    100. * correct.float() / len(validation_loader.dataset)))"
   ]
  },
  {
   "cell_type": "code",
   "execution_count": 0,
   "metadata": {
    "colab": {},
    "colab_type": "code",
    "id": "xi7288T3U8Tx"
   },
   "outputs": [],
   "source": [
    "def test():\n",
    "  network.eval()\n",
    "  correct = 0\n",
    "  with torch.no_grad():\n",
    "    for data, target in test_loader:\n",
    "      data = data.to(device)\n",
    "      target = target.to(device)\n",
    "      output = network(data)\n",
    "      pred = output.data.max(1, keepdim=True)[1]\n",
    "      correct += pred.eq(target.data.view_as(pred)).sum()\n",
    "  print('\\nTest set accuracy: {}/{} ({:.2f}%)\\n'.format(\n",
    "    correct, len(test_loader.dataset),\n",
    "    100. * correct.float() / len(test_loader.dataset)))"
   ]
  },
  {
   "cell_type": "code",
   "execution_count": 11,
   "metadata": {
    "colab": {
     "base_uri": "https://localhost:8080/",
     "height": 1000
    },
    "colab_type": "code",
    "executionInfo": {
     "elapsed": 350894,
     "status": "ok",
     "timestamp": 1563409336683,
     "user": {
      "displayName": "Nilanjan Ray",
      "photoUrl": "",
      "userId": "13266317426275772701"
     },
     "user_tz": 360
    },
    "id": "qRG7c7Sy6XOs",
    "outputId": "5b109dfa-f9a4-49e4-ba5e-bb03ad46dc87"
   },
   "outputs": [
    {
     "name": "stderr",
     "output_type": "stream",
     "text": [
      "/usr/local/lib/python3.6/dist-packages/ipykernel_launcher.py:19: UserWarning: Implicit dimension choice for softmax has been deprecated. Change the call to include dim=X as an argument.\n"
     ]
    },
    {
     "name": "stdout",
     "output_type": "stream",
     "text": [
      "\n",
      "Validation set accuracy: 406/5000 (8.12%)\n",
      "\n",
      "Train Epoch: 1 [0/55000 (0%)]\tAccuracy: 10.50\n",
      "Train Epoch: 1 [20000/55000 (36%)]\tAccuracy: 70.50\n",
      "Train Epoch: 1 [40000/55000 (73%)]\tAccuracy: 83.50\n",
      "\n",
      "Validation set accuracy: 4214/5000 (84.28%)\n",
      "\n",
      "Train Epoch: 2 [0/55000 (0%)]\tAccuracy: 82.50\n",
      "Train Epoch: 2 [20000/55000 (36%)]\tAccuracy: 86.00\n",
      "Train Epoch: 2 [40000/55000 (73%)]\tAccuracy: 87.50\n",
      "\n",
      "Validation set accuracy: 4316/5000 (86.32%)\n",
      "\n",
      "Train Epoch: 3 [0/55000 (0%)]\tAccuracy: 85.00\n",
      "Train Epoch: 3 [20000/55000 (36%)]\tAccuracy: 87.00\n",
      "Train Epoch: 3 [40000/55000 (73%)]\tAccuracy: 88.00\n",
      "\n",
      "Validation set accuracy: 4352/5000 (87.04%)\n",
      "\n",
      "Train Epoch: 4 [0/55000 (0%)]\tAccuracy: 86.00\n",
      "Train Epoch: 4 [20000/55000 (36%)]\tAccuracy: 90.00\n",
      "Train Epoch: 4 [40000/55000 (73%)]\tAccuracy: 88.50\n",
      "\n",
      "Validation set accuracy: 4389/5000 (87.78%)\n",
      "\n",
      "Train Epoch: 5 [0/55000 (0%)]\tAccuracy: 92.50\n",
      "Train Epoch: 5 [20000/55000 (36%)]\tAccuracy: 83.50\n",
      "Train Epoch: 5 [40000/55000 (73%)]\tAccuracy: 89.50\n",
      "\n",
      "Validation set accuracy: 4378/5000 (87.56%)\n",
      "\n",
      "Train Epoch: 6 [0/55000 (0%)]\tAccuracy: 88.00\n",
      "Train Epoch: 6 [20000/55000 (36%)]\tAccuracy: 86.00\n",
      "Train Epoch: 6 [40000/55000 (73%)]\tAccuracy: 93.50\n",
      "\n",
      "Validation set accuracy: 4384/5000 (87.68%)\n",
      "\n",
      "Train Epoch: 7 [0/55000 (0%)]\tAccuracy: 88.00\n",
      "Train Epoch: 7 [20000/55000 (36%)]\tAccuracy: 89.00\n",
      "Train Epoch: 7 [40000/55000 (73%)]\tAccuracy: 89.00\n",
      "\n",
      "Validation set accuracy: 4395/5000 (87.90%)\n",
      "\n",
      "Train Epoch: 8 [0/55000 (0%)]\tAccuracy: 90.00\n",
      "Train Epoch: 8 [20000/55000 (36%)]\tAccuracy: 91.50\n",
      "Train Epoch: 8 [40000/55000 (73%)]\tAccuracy: 88.00\n",
      "\n",
      "Validation set accuracy: 4406/5000 (88.12%)\n",
      "\n",
      "Train Epoch: 9 [0/55000 (0%)]\tAccuracy: 85.50\n",
      "Train Epoch: 9 [20000/55000 (36%)]\tAccuracy: 97.50\n",
      "Train Epoch: 9 [40000/55000 (73%)]\tAccuracy: 97.00\n",
      "\n",
      "Validation set accuracy: 4887/5000 (97.74%)\n",
      "\n",
      "Train Epoch: 10 [0/55000 (0%)]\tAccuracy: 97.00\n",
      "Train Epoch: 10 [20000/55000 (36%)]\tAccuracy: 98.50\n",
      "Train Epoch: 10 [40000/55000 (73%)]\tAccuracy: 98.50\n",
      "\n",
      "Validation set accuracy: 4911/5000 (98.22%)\n",
      "\n",
      "Train Epoch: 11 [0/55000 (0%)]\tAccuracy: 98.50\n",
      "Train Epoch: 11 [20000/55000 (36%)]\tAccuracy: 99.00\n",
      "Train Epoch: 11 [40000/55000 (73%)]\tAccuracy: 98.00\n",
      "\n",
      "Validation set accuracy: 4903/5000 (98.06%)\n",
      "\n",
      "Train Epoch: 12 [0/55000 (0%)]\tAccuracy: 97.00\n",
      "Train Epoch: 12 [20000/55000 (36%)]\tAccuracy: 98.00\n",
      "Train Epoch: 12 [40000/55000 (73%)]\tAccuracy: 99.00\n",
      "\n",
      "Validation set accuracy: 4905/5000 (98.10%)\n",
      "\n",
      "Train Epoch: 13 [0/55000 (0%)]\tAccuracy: 97.50\n",
      "Train Epoch: 13 [20000/55000 (36%)]\tAccuracy: 99.00\n",
      "Train Epoch: 13 [40000/55000 (73%)]\tAccuracy: 99.00\n",
      "\n",
      "Validation set accuracy: 4914/5000 (98.28%)\n",
      "\n",
      "Train Epoch: 14 [0/55000 (0%)]\tAccuracy: 100.00\n",
      "Train Epoch: 14 [20000/55000 (36%)]\tAccuracy: 100.00\n",
      "Train Epoch: 14 [40000/55000 (73%)]\tAccuracy: 99.00\n",
      "\n",
      "Validation set accuracy: 4919/5000 (98.38%)\n",
      "\n",
      "Train Epoch: 15 [0/55000 (0%)]\tAccuracy: 99.00\n",
      "Train Epoch: 15 [20000/55000 (36%)]\tAccuracy: 97.50\n",
      "Train Epoch: 15 [40000/55000 (73%)]\tAccuracy: 100.00\n",
      "\n",
      "Validation set accuracy: 4915/5000 (98.30%)\n",
      "\n",
      "Train Epoch: 16 [0/55000 (0%)]\tAccuracy: 98.50\n",
      "Train Epoch: 16 [20000/55000 (36%)]\tAccuracy: 100.00\n",
      "Train Epoch: 16 [40000/55000 (73%)]\tAccuracy: 99.00\n",
      "\n",
      "Validation set accuracy: 4927/5000 (98.54%)\n",
      "\n",
      "Train Epoch: 17 [0/55000 (0%)]\tAccuracy: 99.00\n",
      "Train Epoch: 17 [20000/55000 (36%)]\tAccuracy: 99.00\n",
      "Train Epoch: 17 [40000/55000 (73%)]\tAccuracy: 99.00\n",
      "\n",
      "Validation set accuracy: 4920/5000 (98.40%)\n",
      "\n",
      "Train Epoch: 18 [0/55000 (0%)]\tAccuracy: 100.00\n",
      "Train Epoch: 18 [20000/55000 (36%)]\tAccuracy: 99.00\n",
      "Train Epoch: 18 [40000/55000 (73%)]\tAccuracy: 99.50\n",
      "\n",
      "Validation set accuracy: 4917/5000 (98.34%)\n",
      "\n",
      "Train Epoch: 19 [0/55000 (0%)]\tAccuracy: 98.00\n",
      "Train Epoch: 19 [20000/55000 (36%)]\tAccuracy: 99.50\n",
      "Train Epoch: 19 [40000/55000 (73%)]\tAccuracy: 98.00\n",
      "\n",
      "Validation set accuracy: 4915/5000 (98.30%)\n",
      "\n",
      "Train Epoch: 20 [0/55000 (0%)]\tAccuracy: 99.00\n",
      "Train Epoch: 20 [20000/55000 (36%)]\tAccuracy: 98.50\n",
      "Train Epoch: 20 [40000/55000 (73%)]\tAccuracy: 100.00\n",
      "\n",
      "Validation set accuracy: 4923/5000 (98.46%)\n",
      "\n",
      "\n",
      "Test set accuracy: 9873/10000 (98.73%)\n",
      "\n"
     ]
    }
   ],
   "source": [
    "learning_rate = 0.0005 # use 0.0005 with Adam\n",
    "sig0 = 1.0\n",
    "network = Net()\n",
    "network = network.to(device)\n",
    "    \n",
    "#optimizer = optim.SGD(network.parameters(), lr=learning_rate, momentum=0.5, nesterov=True)\n",
    "optimizer = optim.Adam(network.parameters(), lr=learning_rate)\n",
    "\n",
    "validation()\n",
    "for epoch in range(1, n_epochs + 1):\n",
    "  train(epoch, sig0)\n",
    "  validation()\n",
    "test()\n",
    "torch.cuda.empty_cache()"
   ]
  }
 ],
 "metadata": {
  "accelerator": "GPU",
  "colab": {
   "collapsed_sections": [],
   "name": "MNIST_LeNet_ES.ipynb",
   "provenance": [],
   "version": "0.3.2"
  },
  "kernelspec": {
   "display_name": "Python 3",
   "language": "python",
   "name": "python3"
  },
  "language_info": {
   "codemirror_mode": {
    "name": "ipython",
    "version": 3
   },
   "file_extension": ".py",
   "mimetype": "text/x-python",
   "name": "python",
   "nbconvert_exporter": "python",
   "pygments_lexer": "ipython3",
   "version": "3.7.3"
  }
 },
 "nbformat": 4,
 "nbformat_minor": 1
}
