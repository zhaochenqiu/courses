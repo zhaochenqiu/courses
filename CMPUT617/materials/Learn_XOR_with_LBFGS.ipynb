{
 "cells": [
  {
   "cell_type": "code",
   "execution_count": 0,
   "metadata": {
    "colab": {},
    "colab_type": "code",
    "id": "B6Zcl1xDtKY3"
   },
   "outputs": [],
   "source": [
    "# This notebook implements a neural net to apprximate XOR function using PyTorch\n",
    "from __future__ import print_function\n",
    "import numpy as np\n",
    "import torch\n",
    "from torch.autograd import Variable"
   ]
  },
  {
   "cell_type": "code",
   "execution_count": 2,
   "metadata": {
    "colab": {
     "base_uri": "https://localhost:8080/",
     "height": 153
    },
    "colab_type": "code",
    "executionInfo": {
     "elapsed": 225,
     "status": "ok",
     "timestamp": 1562968889238,
     "user": {
      "displayName": "Nilanjan Ray",
      "photoUrl": "",
      "userId": "13266317426275772701"
     },
     "user_tz": 360
    },
    "id": "gfA-FfFG1792",
    "outputId": "2a6c4ad9-bb1c-4e12-fc2b-dc626a9f2007"
   },
   "outputs": [
    {
     "name": "stdout",
     "output_type": "stream",
     "text": [
      "input:  tensor([[1., 0.],\n",
      "        [0., 0.],\n",
      "        [0., 1.],\n",
      "        [1., 1.]])\n",
      "output:  tensor([[1.],\n",
      "        [0.],\n",
      "        [1.],\n",
      "        [0.]])\n"
     ]
    }
   ],
   "source": [
    "X = torch.tensor([[1.0,0.0,0.0,1.0],[0.0,0.0,1.0,1.0]],dtype=torch.float32) # 2x4 matrix\n",
    "X = torch.transpose(X,0,1)\n",
    "Y = torch.tensor([[1.0,0.0,1.0,0.0]],dtype=torch.float32)                   # 1x4 vector\n",
    "Y = torch.transpose(Y,0,1)\n",
    "print(\"input: \", X)\n",
    "print(\"output: \", Y)\n"
   ]
  },
  {
   "cell_type": "code",
   "execution_count": 3,
   "metadata": {
    "colab": {
     "base_uri": "https://localhost:8080/",
     "height": 323
    },
    "colab_type": "code",
    "executionInfo": {
     "elapsed": 4336,
     "status": "ok",
     "timestamp": 1562968903808,
     "user": {
      "displayName": "Nilanjan Ray",
      "photoUrl": "",
      "userId": "13266317426275772701"
     },
     "user_tz": 360
    },
    "id": "gHOSWcDL1_vh",
    "outputId": "11b2dce2-dc63-4dbe-f8d6-eefa671c29e1"
   },
   "outputs": [
    {
     "name": "stdout",
     "output_type": "stream",
     "text": [
      "loss: 0.26121559739112854\n",
      "loss: 0.14746129512786865\n",
      "loss: 0.0019241863628849387\n",
      "loss: 6.888330972287804e-05\n",
      "loss: 3.5687376112036873e-06\n",
      "loss: 7.363997838183423e-07\n",
      "loss: 7.363997838183423e-07\n",
      "loss: 7.363997838183423e-07\n",
      "loss: 7.363997838183423e-07\n",
      "loss: 7.363997838183423e-07\n",
      "tensor([[1.0000e+00],\n",
      "        [1.6687e-03],\n",
      "        [9.9960e-01],\n",
      "        [3.1264e-06]], grad_fn=<SigmoidBackward>)\n",
      "tensor([[1.],\n",
      "        [0.],\n",
      "        [1.],\n",
      "        [0.]])\n"
     ]
    }
   ],
   "source": [
    "learning_rate = 0.01\n",
    "\n",
    "loss_fn = torch.nn.MSELoss() # Eclidean loss function\n",
    "\n",
    "model = torch.nn.Sequential(torch.nn.Linear(2, 8), torch.nn.Sigmoid(), torch.nn.Linear(8, 1), torch.nn.Sigmoid())\n",
    "optimizer = torch.optim.LBFGS(model.parameters(),lr=learning_rate)\n",
    "\n",
    "for step in range(100):\n",
    "\n",
    "  def closure():\n",
    "    if torch.is_grad_enabled():\n",
    "      optimizer.zero_grad()\n",
    "    Yp = model(X)\n",
    "    loss = loss_fn(Yp, Y)\n",
    "    if loss.requires_grad:\n",
    "      loss.backward()\n",
    "    return loss\n",
    "  optimizer.step(closure)      \n",
    "\n",
    "  if step%10 == 0: \n",
    "    print(\"loss:\",closure().item())\n",
    "\n",
    "Yp = model(X)\n",
    "print(Yp)\n",
    "print(Y)"
   ]
  }
 ],
 "metadata": {
  "accelerator": "GPU",
  "colab": {
   "name": "Learn_XOR_with_LBFGS.ipynb",
   "provenance": [],
   "version": "0.3.2"
  },
  "kernelspec": {
   "display_name": "Python 3",
   "language": "python",
   "name": "python3"
  },
  "language_info": {
   "codemirror_mode": {
    "name": "ipython",
    "version": 3
   },
   "file_extension": ".py",
   "mimetype": "text/x-python",
   "name": "python",
   "nbconvert_exporter": "python",
   "pygments_lexer": "ipython3",
   "version": "3.7.3"
  }
 },
 "nbformat": 4,
 "nbformat_minor": 1
}
