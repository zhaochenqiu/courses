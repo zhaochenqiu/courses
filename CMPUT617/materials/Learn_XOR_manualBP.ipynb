{
 "cells": [
  {
   "cell_type": "code",
   "execution_count": 0,
   "metadata": {
    "colab": {},
    "colab_type": "code",
    "id": "B6Zcl1xDtKY3"
   },
   "outputs": [],
   "source": [
    "# This notebook implements a neural net to apprximate XOR function using PyTorch\n",
    "from __future__ import print_function\n",
    "import numpy as np\n",
    "import torch\n",
    "from torch.autograd import Variable"
   ]
  },
  {
   "cell_type": "code",
   "execution_count": 2,
   "metadata": {
    "colab": {
     "base_uri": "https://localhost:8080/",
     "height": 153
    },
    "colab_type": "code",
    "executionInfo": {
     "elapsed": 558,
     "status": "ok",
     "timestamp": 1562968631149,
     "user": {
      "displayName": "Nilanjan Ray",
      "photoUrl": "",
      "userId": "13266317426275772701"
     },
     "user_tz": 360
    },
    "id": "gfA-FfFG1792",
    "outputId": "12a2ecca-d5b7-437d-fd08-1b330194cfab"
   },
   "outputs": [
    {
     "name": "stdout",
     "output_type": "stream",
     "text": [
      "input:  tensor([[1., 0.],\n",
      "        [0., 0.],\n",
      "        [0., 1.],\n",
      "        [1., 1.]])\n",
      "output:  tensor([[1.],\n",
      "        [0.],\n",
      "        [1.],\n",
      "        [0.]])\n"
     ]
    }
   ],
   "source": [
    "X = torch.tensor([[1.0,0.0,0.0,1.0],[0.0,0.0,1.0,1.0]],dtype=torch.float32) \n",
    "X = torch.transpose(X,0,1) # 4x2 matrix\n",
    "Y = torch.tensor([[1.0,0.0,1.0,0.0]],dtype=torch.float32)                   \n",
    "Y = torch.transpose(Y,0,1) # 4x1 vector\n",
    "print(\"input: \", X)\n",
    "print(\"output: \", Y)\n"
   ]
  },
  {
   "cell_type": "code",
   "execution_count": 3,
   "metadata": {
    "colab": {
     "base_uri": "https://localhost:8080/",
     "height": 323
    },
    "colab_type": "code",
    "executionInfo": {
     "elapsed": 2342,
     "status": "ok",
     "timestamp": 1562968719406,
     "user": {
      "displayName": "Nilanjan Ray",
      "photoUrl": "",
      "userId": "13266317426275772701"
     },
     "user_tz": 360
    },
    "id": "gHOSWcDL1_vh",
    "outputId": "d87d91d2-2940-4dbe-d5a7-6fd9fe9ca3f7"
   },
   "outputs": [
    {
     "name": "stdout",
     "output_type": "stream",
     "text": [
      "loss: tensor(1.0287, grad_fn=<SumBackward0>)\n",
      "loss: tensor(0.0325, grad_fn=<SumBackward0>)\n",
      "loss: tensor(0.0072, grad_fn=<SumBackward0>)\n",
      "loss: tensor(0.0037, grad_fn=<SumBackward0>)\n",
      "loss: tensor(0.0024, grad_fn=<SumBackward0>)\n",
      "loss: tensor(0.0018, grad_fn=<SumBackward0>)\n",
      "loss: tensor(0.0014, grad_fn=<SumBackward0>)\n",
      "loss: tensor(0.0011, grad_fn=<SumBackward0>)\n",
      "loss: tensor(0.0009, grad_fn=<SumBackward0>)\n",
      "loss: tensor(0.0008, grad_fn=<SumBackward0>)\n",
      "tensor([[0.9867],\n",
      "        [0.0114],\n",
      "        [0.9867],\n",
      "        [0.0152]], grad_fn=<SigmoidBackward>)\n",
      "tensor([[1.],\n",
      "        [0.],\n",
      "        [1.],\n",
      "        [0.]])\n"
     ]
    }
   ],
   "source": [
    "# parameters of neural net\n",
    "W1 = Variable(torch.torch.FloatTensor(2, 8).uniform_(-1, 1), requires_grad=True) # 2x8 matrix\n",
    "b1 = Variable(torch.zeros((1,8)), requires_grad=True)                            # 1x8 matrix\n",
    "W2 = Variable(torch.torch.FloatTensor(8, 1).uniform_(-1, 1), requires_grad=True) # 8x1 matrix\n",
    "b2 = Variable(torch.zeros([1]), requires_grad=True)                              # scalar\n",
    "\n",
    "learning_rate = 0.5\n",
    "\n",
    "for step in range(10000):\n",
    "\n",
    "  # forward pass\n",
    "  Z1 = torch.mm(X,W1)    # 4x8 matrix\n",
    "  Z2 = Z1 + b1           # 4x8 matrix\n",
    "  Z3 = torch.sigmoid(Z2) # 4x8 matrix\n",
    "  Z4 = torch.mm(Z3,W2)   # 4x1 vector\n",
    "  Z5 = Z4 + b2           # 4x1 vector\n",
    "  Yp = torch.sigmoid(Z5) # 4x1 vector\n",
    "\n",
    "  # backward pass\n",
    "  dYp = Yp-Y # 4x1 vector\n",
    "  dZ5 = torch.sigmoid(Z5)*(1.0-torch.sigmoid(Z5))*dYp # 4x1 vector\n",
    "  dZ4 = dZ5  # 4x1 vector\n",
    "  dZ3 = torch.mm(dZ4,torch.transpose(W2,0,1)) # 4x8 matrix\n",
    "  dZ2 = torch.sigmoid(Z2)*(1.0-torch.sigmoid(Z2))*dZ3 # 4x8 matrix\n",
    "  dZ1 = dZ2 # 4x8 matrix\n",
    "  \n",
    "  dW1 = torch.mm(torch.transpose(X,0,1),dZ1)\n",
    "  db1 = torch.sum(dZ2,0,True)\n",
    "  dW2 = torch.mm(torch.transpose(Z3,0,1),dZ4)\n",
    "  db2 = torch.sum(dZ5)\n",
    "  \n",
    "  # adjust parameters by gradient descent\n",
    "  W1 = W1 - learning_rate*dW1\n",
    "  b1 = b1 - learning_rate*db1\n",
    "  W2 = W2 - learning_rate*dW2\n",
    "  b2 = b2 - learning_rate*db2\n",
    "  \n",
    "  if step%1000 == 0:\n",
    "    loss = torch.sum((Yp-Y)**2)\n",
    "    print(\"loss:\",loss)\n",
    "\n",
    "print(Yp)\n",
    "print(Y)"
   ]
  }
 ],
 "metadata": {
  "accelerator": "GPU",
  "colab": {
   "name": "Learn_XOR_manualBP.ipynb",
   "provenance": [],
   "version": "0.3.2"
  },
  "kernelspec": {
   "display_name": "Python 3",
   "language": "python",
   "name": "python3"
  },
  "language_info": {
   "codemirror_mode": {
    "name": "ipython",
    "version": 3
   },
   "file_extension": ".py",
   "mimetype": "text/x-python",
   "name": "python",
   "nbconvert_exporter": "python",
   "pygments_lexer": "ipython3",
   "version": "3.7.3"
  }
 },
 "nbformat": 4,
 "nbformat_minor": 1
}
